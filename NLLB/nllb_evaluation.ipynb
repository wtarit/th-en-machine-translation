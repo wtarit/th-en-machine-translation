{
 "cells": [
  {
   "cell_type": "code",
   "execution_count": 1,
   "metadata": {},
   "outputs": [
    {
     "name": "stderr",
     "output_type": "stream",
     "text": [
      "/home/tarit/.local/lib/python3.10/site-packages/tqdm/auto.py:21: TqdmWarning: IProgress not found. Please update jupyter and ipywidgets. See https://ipywidgets.readthedocs.io/en/stable/user_install.html\n",
      "  from .autonotebook import tqdm as notebook_tqdm\n",
      "2024-12-27 18:00:15.011719: E external/local_xla/xla/stream_executor/cuda/cuda_dnn.cc:9261] Unable to register cuDNN factory: Attempting to register factory for plugin cuDNN when one has already been registered\n",
      "2024-12-27 18:00:15.011795: E external/local_xla/xla/stream_executor/cuda/cuda_fft.cc:607] Unable to register cuFFT factory: Attempting to register factory for plugin cuFFT when one has already been registered\n",
      "2024-12-27 18:00:15.013316: E external/local_xla/xla/stream_executor/cuda/cuda_blas.cc:1515] Unable to register cuBLAS factory: Attempting to register factory for plugin cuBLAS when one has already been registered\n",
      "2024-12-27 18:00:15.021397: I tensorflow/core/platform/cpu_feature_guard.cc:182] This TensorFlow binary is optimized to use available CPU instructions in performance-critical operations.\n",
      "To enable the following instructions: AVX2 FMA, in other operations, rebuild TensorFlow with the appropriate compiler flags.\n",
      "2024-12-27 18:00:16.371673: W tensorflow/compiler/tf2tensorrt/utils/py_utils.cc:38] TF-TRT Warning: Could not find TensorRT\n"
     ]
    }
   ],
   "source": [
    "from transformers import AutoModelForSeq2SeqLM, AutoTokenizer\n",
    "import torch\n",
    "from tqdm.auto import tqdm\n",
    "import evaluate\n",
    "\n",
    "device = \"cuda:0\" if torch.cuda.is_available() else \"cpu\""
   ]
  },
  {
   "attachments": {},
   "cell_type": "markdown",
   "metadata": {},
   "source": [
    "# Load Model\n",
    "Select the variants of a model to load (Standard model/LoRA model)"
   ]
  },
  {
   "cell_type": "code",
   "execution_count": 2,
   "metadata": {},
   "outputs": [],
   "source": [
    "# Load Original Model / Full finetuned model\n",
    "# model_repo = \"model/nllb-600m-scb-3epochs\"\n",
    "model_repo = \"wtarit/nllb-600M-th-en\"\n",
    " \n",
    "model = AutoModelForSeq2SeqLM.from_pretrained(model_repo).to(device)\n",
    "tokenizer = AutoTokenizer.from_pretrained(model_repo)"
   ]
  },
  {
   "cell_type": "code",
   "execution_count": 2,
   "metadata": {},
   "outputs": [],
   "source": [
    "# Load LoRA model\n",
    "from peft import PeftModel\n",
    "\n",
    "model_repo = \"facebook/nllb-200-distilled-600M\"\n",
    "lora_repo = \"model/epochs9.0\"\n",
    "model = AutoModelForSeq2SeqLM.from_pretrained(model_repo).to(device)\n",
    "model = PeftModel.from_pretrained(model, lora_repo)\n",
    "tokenizer = AutoTokenizer.from_pretrained(model_repo, src_lang=\"tha_Thai\", tgt_lang=\"eng_Latn\")"
   ]
  },
  {
   "attachments": {},
   "cell_type": "markdown",
   "metadata": {},
   "source": [
    "# Load test data"
   ]
  },
  {
   "cell_type": "code",
   "execution_count": 3,
   "metadata": {},
   "outputs": [
    {
     "name": "stdout",
     "output_type": "stream",
     "text": [
      "th_text: 4242, en_text: 4242\n"
     ]
    }
   ],
   "source": [
    "th_text = []\n",
    "en_text = []\n",
    "\n",
    "with open(\"../data/iwslt_2015/tst2010-2013_th-en.en\", \"r\") as f:\n",
    "    en_text = [line.strip() for line in f]\n",
    "with open(\"../data/iwslt_2015/tst2010-2013_th-en.th\", \"r\") as f:\n",
    "    th_text = [line.strip() for line in f]\n",
    "\n",
    "print(f\"th_text: {len(th_text)}, en_text: {len(en_text)}\")"
   ]
  },
  {
   "cell_type": "code",
   "execution_count": 4,
   "metadata": {},
   "outputs": [
    {
     "name": "stderr",
     "output_type": "stream",
     "text": [
      "100%|██████████| 34/34 [02:18<00:00,  4.09s/it]\n"
     ]
    }
   ],
   "source": [
    "predictions = []\n",
    "batch_size = 128\n",
    "for i in tqdm(range(0, len(th_text), batch_size)):\n",
    "    batch = (th_text[i:i+batch_size])\n",
    "\n",
    "    inputs = tokenizer(batch, return_tensors=\"pt\", padding=True).to(device)\n",
    "\n",
    "    translated_tokens = model.generate(**inputs, forced_bos_token_id=tokenizer.convert_tokens_to_ids(\"eng_Latn\"), max_length=64)\n",
    "    predictions += tokenizer.batch_decode(translated_tokens, skip_special_tokens=True)"
   ]
  },
  {
   "attachments": {},
   "cell_type": "markdown",
   "metadata": {},
   "source": [
    "# Calculate BLEU Score"
   ]
  },
  {
   "cell_type": "code",
   "execution_count": 5,
   "metadata": {},
   "outputs": [
    {
     "data": {
      "text/plain": [
       "{'score': 27.376421652439596,\n",
       " 'counts': [46425, 25162, 15101, 9315],\n",
       " 'totals': [77942, 73700, 69458, 65223],\n",
       " 'precisions': [59.56352159297939,\n",
       "  34.141112618724556,\n",
       "  21.741196118517664,\n",
       "  14.281771767627983],\n",
       " 'bp': 0.9711711922766634,\n",
       " 'sys_len': 77942,\n",
       " 'ref_len': 80222}"
      ]
     },
     "execution_count": 5,
     "metadata": {},
     "output_type": "execute_result"
    }
   ],
   "source": [
    "metric = evaluate.load(\"sacrebleu\")\n",
    "en_ref = [[line] for line in en_text]\n",
    "metric.compute(predictions=predictions, references=en_ref)"
   ]
  },
  {
   "cell_type": "code",
   "execution_count": null,
   "metadata": {},
   "outputs": [],
   "source": []
  }
 ],
 "metadata": {
  "kernelspec": {
   "display_name": "Python 3",
   "language": "python",
   "name": "python3"
  },
  "language_info": {
   "codemirror_mode": {
    "name": "ipython",
    "version": 3
   },
   "file_extension": ".py",
   "mimetype": "text/x-python",
   "name": "python",
   "nbconvert_exporter": "python",
   "pygments_lexer": "ipython3",
   "version": "3.10.12"
  },
  "orig_nbformat": 4
 },
 "nbformat": 4,
 "nbformat_minor": 2
}
