{
 "cells": [
  {
   "cell_type": "code",
   "execution_count": 1,
   "metadata": {},
   "outputs": [],
   "source": [
    "from transformers import AutoModelForSeq2SeqLM, AutoTokenizer\n",
    "import torch\n",
    "from tqdm.auto import tqdm\n",
    "import evaluate\n",
    "\n",
    "device = \"cuda:0\" if torch.cuda.is_available() else \"cpu\""
   ]
  },
  {
   "attachments": {},
   "cell_type": "markdown",
   "metadata": {},
   "source": [
    "# Load Model\n",
    "Select the varients of model to load (Standard model/LoRA model)"
   ]
  },
  {
   "cell_type": "code",
   "execution_count": null,
   "metadata": {},
   "outputs": [],
   "source": [
    "# Load Original Model / Full finetuned model\n",
    "model_repo = \"model/nllb-600m-scb-3epochs\"\n",
    "\n",
    "model = AutoModelForSeq2SeqLM.from_pretrained(model_repo).to(device)\n",
    "tokenizer = AutoTokenizer.from_pretrained(model_repo)"
   ]
  },
  {
   "cell_type": "code",
   "execution_count": 2,
   "metadata": {},
   "outputs": [],
   "source": [
    "# Load LoRA model\n",
    "from peft import PeftModel\n",
    "\n",
    "model_repo = \"facebook/nllb-200-distilled-600M\"\n",
    "lora_repo = \"model/epochs3.0\"\n",
    "model = AutoModelForSeq2SeqLM.from_pretrained(model_repo).to(device)\n",
    "model = PeftModel.from_pretrained(model, lora_repo)\n",
    "tokenizer = AutoTokenizer.from_pretrained(model_repo, src_lang=\"tha_Thai\", tgt_lang=\"eng_Latn\")"
   ]
  },
  {
   "attachments": {},
   "cell_type": "markdown",
   "metadata": {},
   "source": [
    "# Load test data"
   ]
  },
  {
   "cell_type": "code",
   "execution_count": 3,
   "metadata": {},
   "outputs": [
    {
     "name": "stdout",
     "output_type": "stream",
     "text": [
      "th_text: 4242, en_text: 4242\n"
     ]
    }
   ],
   "source": [
    "th_text = []\n",
    "en_text = []\n",
    "\n",
    "with open(\"../data/iwslt_2015/tst2010-2013_th-en.en\", \"r\") as f:\n",
    "    en_text = [line.strip() for line in f]\n",
    "with open(\"../data/iwslt_2015/tst2010-2013_th-en.th\", \"r\") as f:\n",
    "    th_text = [line.strip() for line in f]\n",
    "\n",
    "print(f\"th_text: {len(th_text)}, en_text: {len(en_text)}\")"
   ]
  },
  {
   "cell_type": "code",
   "execution_count": 4,
   "metadata": {},
   "outputs": [
    {
     "data": {
      "application/vnd.jupyter.widget-view+json": {
       "model_id": "2a779a708f7a49b4a4ea7cbea6b2d1ca",
       "version_major": 2,
       "version_minor": 0
      },
      "text/plain": [
       "  0%|          | 0/67 [00:00<?, ?it/s]"
      ]
     },
     "metadata": {},
     "output_type": "display_data"
    }
   ],
   "source": [
    "predictions = []\n",
    "batch_size = 128\n",
    "for i in tqdm(range(0, len(th_text), batch_size)):\n",
    "    batch = (th_text[i:i+batch_size])\n",
    "\n",
    "    inputs = tokenizer(batch, return_tensors=\"pt\", padding=True).to(device)\n",
    "\n",
    "    translated_tokens = model.generate(**inputs, forced_bos_token_id=tokenizer.lang_code_to_id[\"eng_Latn\"], max_length=64)\n",
    "    predictions += tokenizer.batch_decode(translated_tokens, skip_special_tokens=True)"
   ]
  },
  {
   "cell_type": "code",
   "execution_count": 6,
   "metadata": {},
   "outputs": [
    {
     "data": {
      "text/plain": [
       "{'score': 24.014071578976555,\n",
       " 'counts': [44220, 22616, 12885, 7546],\n",
       " 'totals': [77806, 73564, 69322, 65085],\n",
       " 'precisions': [56.83366321363391,\n",
       "  30.743298352455007,\n",
       "  18.587172903263035,\n",
       "  11.594069294000153],\n",
       " 'bp': 0.969425559265115,\n",
       " 'sys_len': 77806,\n",
       " 'ref_len': 80222}"
      ]
     },
     "execution_count": 6,
     "metadata": {},
     "output_type": "execute_result"
    }
   ],
   "source": [
    "metric = evaluate.load(\"sacrebleu\")\n",
    "en_ref = [[line] for line in en_text]\n",
    "metric.compute(predictions=predictions, references=en_ref)"
   ]
  },
  {
   "cell_type": "code",
   "execution_count": null,
   "metadata": {},
   "outputs": [],
   "source": []
  }
 ],
 "metadata": {
  "kernelspec": {
   "display_name": "Python 3",
   "language": "python",
   "name": "python3"
  },
  "language_info": {
   "codemirror_mode": {
    "name": "ipython",
    "version": 3
   },
   "file_extension": ".py",
   "mimetype": "text/x-python",
   "name": "python",
   "nbconvert_exporter": "python",
   "pygments_lexer": "ipython3",
   "version": "3.10.6"
  },
  "orig_nbformat": 4
 },
 "nbformat": 4,
 "nbformat_minor": 2
}
