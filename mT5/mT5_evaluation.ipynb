{
 "cells": [
  {
   "cell_type": "code",
   "execution_count": 1,
   "metadata": {},
   "outputs": [],
   "source": [
    "from transformers import AutoModelForSeq2SeqLM, AutoTokenizer\n",
    "import torch\n",
    "from tqdm.auto import tqdm\n",
    "import evaluate\n",
    "\n",
    "device = \"cuda:0\" if torch.cuda.is_available() else \"cpu\"\n",
    "model_repo = \"model/mt5-small-scb-mt-th-en-bf16/checkpoint-62500\"\n",
    "\n",
    "model = AutoModelForSeq2SeqLM.from_pretrained(model_repo).to(device)\n",
    "tokenizer = AutoTokenizer.from_pretrained(model_repo)"
   ]
  },
  {
   "cell_type": "code",
   "execution_count": 7,
   "metadata": {},
   "outputs": [
    {
     "name": "stdout",
     "output_type": "stream",
     "text": [
      "th_text: 4242, en_text: 4242\n"
     ]
    }
   ],
   "source": [
    "th_text = []\n",
    "en_text = []\n",
    "\n",
    "with open(\"../data/iwslt_2015/tst2010-2013_th-en.en\", \"r\") as f:\n",
    "    en_text = [line.strip() for line in f]\n",
    "with open(\"../data/iwslt_2015/tst2010-2013_th-en.th\", \"r\") as f:\n",
    "    th_text = [line.strip() for line in f]\n",
    "\n",
    "print(f\"th_text: {len(th_text)}, en_text: {len(en_text)}\")"
   ]
  },
  {
   "cell_type": "code",
   "execution_count": 8,
   "metadata": {},
   "outputs": [
    {
     "data": {
      "application/vnd.jupyter.widget-view+json": {
       "model_id": "0f578d31ff704577968dad18eef775c0",
       "version_major": 2,
       "version_minor": 0
      },
      "text/plain": [
       "  0%|          | 0/67 [00:00<?, ?it/s]"
      ]
     },
     "metadata": {},
     "output_type": "display_data"
    }
   ],
   "source": [
    "predictions = []\n",
    "batch_size = 64\n",
    "for i in tqdm(range(0, len(th_text), batch_size)):\n",
    "    batch = (th_text[i:i+batch_size])\n",
    "\n",
    "    inputs = tokenizer(batch, return_tensors=\"pt\", padding=True).to(device)\n",
    "\n",
    "    translated_tokens = model.generate(**inputs, max_length=64)\n",
    "    predictions += tokenizer.batch_decode(translated_tokens, skip_special_tokens=True)"
   ]
  },
  {
   "cell_type": "code",
   "execution_count": 9,
   "metadata": {},
   "outputs": [
    {
     "data": {
      "text/plain": [
       "{'score': 12.13760170977748,\n",
       " 'counts': [35746, 13070, 5538, 2444],\n",
       " 'totals': [76552, 72310, 68068, 63833],\n",
       " 'precisions': [46.69505695474971,\n",
       "  18.074955054625917,\n",
       "  8.13598166539343,\n",
       "  3.828740620055457],\n",
       " 'bp': 0.9531897675267356,\n",
       " 'sys_len': 76552,\n",
       " 'ref_len': 80222}"
      ]
     },
     "execution_count": 9,
     "metadata": {},
     "output_type": "execute_result"
    }
   ],
   "source": [
    "metric = evaluate.load(\"sacrebleu\")\n",
    "en_ref = [[line] for line in en_text]\n",
    "metric.compute(predictions=predictions, references=en_ref)"
   ]
  },
  {
   "cell_type": "code",
   "execution_count": null,
   "metadata": {},
   "outputs": [],
   "source": []
  }
 ],
 "metadata": {
  "kernelspec": {
   "display_name": "Python 3",
   "language": "python",
   "name": "python3"
  },
  "language_info": {
   "codemirror_mode": {
    "name": "ipython",
    "version": 3
   },
   "file_extension": ".py",
   "mimetype": "text/x-python",
   "name": "python",
   "nbconvert_exporter": "python",
   "pygments_lexer": "ipython3",
   "version": "3.10.6"
  },
  "orig_nbformat": 4
 },
 "nbformat": 4,
 "nbformat_minor": 2
}
